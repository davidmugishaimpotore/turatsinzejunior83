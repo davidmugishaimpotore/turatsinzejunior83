{
  "nbformat": 4,
  "nbformat_minor": 0,
  "metadata": {
    "colab": {
      "provenance": [],
      "authorship_tag": "ABX9TyPG6HV8bNJD3XttM1VMcA8e",
      "include_colab_link": true
    },
    "kernelspec": {
      "name": "python3",
      "display_name": "Python 3"
    },
    "language_info": {
      "name": "python"
    }
  },
  "cells": [
    {
      "cell_type": "markdown",
      "metadata": {
        "id": "view-in-github",
        "colab_type": "text"
      },
      "source": [
        "<a href=\"https://colab.research.google.com/github/davidmugishaimpotore/turatsinzejunior83/blob/main/Untitled3.ipynb\" target=\"_parent\"><img src=\"https://colab.research.google.com/assets/colab-badge.svg\" alt=\"Open In Colab\"/></a>"
      ]
    },
    {
      "cell_type": "code",
      "execution_count": 6,
      "metadata": {
        "colab": {
          "base_uri": "https://localhost:8080/"
        },
        "id": "XFcUMpoz80kJ",
        "outputId": "9d82cf86-8ee2-4c35-ece6-4dca2b2ef443"
      },
      "outputs": [
        {
          "output_type": "stream",
          "name": "stdout",
          "text": [
            "similarity: 0.64\n",
            "common words: {'history', 'is', 'the', 'study', 'systematic', 'of', 'past'}\n"
          ]
        }
      ],
      "source": [
        "file1 =\"history is the systematic study of the past\"\n",
        "file2 =\"history is the systematic study of the past this is just for practice\"\n",
        "\n",
        "def jacccard_similarity(text1,text2):\n",
        "  #split text into sets of words\n",
        "  set1=set(text1.split())\n",
        "  set2=set(text2.split())\n",
        "  #the jaccard_similarity function mow returns both similarity score and the set f common word\n",
        "  #The intersection variable contains the word that appear in both text1 and text2.\n",
        "  #The common_words set is printed alongside the similarity score.\n",
        "  #Find intersection and union\n",
        "  intersection = set1.intersection (set2)\n",
        "  union= set1.union(set2)\n",
        "  #calculate jaccard similarity\n",
        "  similarity = len(intersection)/ len(union)\n",
        "  #return similarity and intersection words\n",
        "  return similarity, intersection\n",
        "  #input texts\n",
        "  text1 =\"This is a sample sample text about is this legal samle issues.\"\n",
        "  text2 =\"This text legal discusses legal and ethical this issues in legal computing.\"\n",
        "  #Calculate similarity and get common words\n",
        "  #similarity,common_words = jaccard_similarity(text1, text2)\n",
        "  #print results 0.29\n",
        "  print(f\"similarity: {similarity:.2f}\")\n",
        "  print(f\"common words: {common_words}\")\n",
        "file1 =\"history is the systematic study of the past\"\n",
        "file2 =\"history is the systematic study of the past this is just for practice\"\n",
        "\n",
        "def jacccard_similarity(text1,text2):\n",
        "  #split text into sets of words\n",
        "  set1=set(text1.split())\n",
        "  set2=set(text2.split())\n",
        "  #the jaccard_similarity function mow returns both similarity score and the set f common word\n",
        "  #The intersection variable contains the word that appear in both text1 and text2.\n",
        "  #The common_words set is printed alongside the similarity score.\n",
        "  #Find intersection and union\n",
        "  intersection = set1.intersection (set2)\n",
        "  union= set1.union(set2)\n",
        "  #calculate jaccard similarity\n",
        "  similarity = len(intersection)/ len(union)\n",
        "  #return similarity and intersection words\n",
        "  return similarity, intersection\n",
        "\n",
        "#input texts\n",
        "text1 =\"This is a sample sample text about is this legal samle issues.\"\n",
        "text2 =\"This text legal discusses legal and ethical this issues in legal computing.\"\n",
        "#Calculate similarity and get common words\n",
        "#similarity,common_words = jaccard_similarity(text1, text2)\n",
        "#print results 0.29\n",
        "#print(f\"similarity: {similarity:.2f}\")\n",
        "#print(f\"common words: {common_words}\")\n",
        "#Calculate similarity between file1 and file2\n",
        "similarity, common_words = jacccard_similarity(file1, file2)\n",
        "print(f\"similarity: {similarity:.2f}\")\n",
        "print(f\"common words: {common_words}\")"
      ]
    }
  ]
}